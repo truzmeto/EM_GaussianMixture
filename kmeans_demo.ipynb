{
 "cells": [
  {
   "cell_type": "code",
   "execution_count": 7,
   "metadata": {},
   "outputs": [],
   "source": [
    "import pandas as pd\n",
    "import numpy as np\n",
    "import matplotlib.pyplot as plt\n",
    "import seaborn as sns\n",
    "from random import randrange\n",
    "import random\n",
    "from scipy.spatial.distance import cdist\n",
    "%matplotlib inline"
   ]
  },
  {
   "cell_type": "code",
   "execution_count": 35,
   "metadata": {},
   "outputs": [],
   "source": [
    "from sklearn.datasets import make_blobs\n",
    "# Create Data\n",
    "data, labels = make_blobs(n_samples=200, n_features=2, \n",
    "                           centers=3, cluster_std=2.0, random_state=100)\n",
    "x = data[:,0]\n",
    "y = data[:,1]"
   ]
  },
  {
   "cell_type": "code",
   "execution_count": 36,
   "metadata": {},
   "outputs": [
    {
     "data": {
      "text/plain": [
       "<matplotlib.collections.PathCollection at 0x7fbdc4c20128>"
      ]
     },
     "execution_count": 36,
     "metadata": {},
     "output_type": "execute_result"
    },
    {
     "data": {
      "image/png": "[encoded data removed]",
      "text/plain": [
       "<Figure size 432x288 with 1 Axes>"
      ]
     },
     "metadata": {},
     "output_type": "display_data"
    }
   ],
   "source": [
    "sns.set_style(\"whitegrid\")\n",
    "plt.scatter(x , y, c = labels, cmap='rainbow')"
   ]
  },
  {
   "cell_type": "code",
   "execution_count": 37,
   "metadata": {},
   "outputs": [],
   "source": [
    "import numpy as np\n",
    "#from scipy.spatial.distance import cdist\n",
    "\n",
    "def Initilize_centroids(x_inp, n_centroids, seed =100):\n",
    "    '''\n",
    "    Initilize centroids by randomly selecting from data range.\n",
    "    \n",
    "    -----------\n",
    "    \n",
    "    Input:   x_inp - numpy ndarray of dimension (n_samples, n_features)\n",
    "             n_centroind  - number of components, means or centroids.\n",
    "             seed - random seed, integer value\n",
    "    Output:  init_means - numpy ndarray of dimension (n_centroids, n_features)\n",
    "    '''\n",
    "    #set rand.seed\n",
    "    np.random.seed(seed)\n",
    "    x_max, x_min  = x_inp.max(axis=0), x_inp.min(axis=0)\n",
    "    n_features = x_inp.shape[1]\n",
    "    init_means = np.random.rand(n_centroids, n_features) * (x_max - x_min) + x_min\n",
    "    return init_means\n",
    "    \n",
    "    \n",
    "    \n",
    "\n",
    "def distance(x_inp, means, n_centroids):\n",
    "    '''\n",
    "    Performs Expectation step given input data and returns expectation values.   \n",
    "    \n",
    "    -----------\n",
    "    \n",
    "    Input:   x_inp - numpy ndarray of dimension (n_samples, n_features)\n",
    "             means - centroid positions, numpy ndarray of dimension (n_centroids, n_features)   \n",
    "             n_centroind  - number of components( means or centroids )\n",
    "    Output:  x_expect  - numpy ndarray of dimension (n_samples, n_centroids)\n",
    "    '''\n",
    "    \n",
    "    dist = cdist(x_inp, means, 'euclidean')\n",
    "    \n",
    "    #or\n",
    "    #for i in range(len(means)):\n",
    "    #    dist = x_inp - means[i]\n",
    "    #    dist = dist*dist\n",
    "        \n",
    "    return dist\n"
   ]
  },
  {
   "cell_type": "code",
   "execution_count": 38,
   "metadata": {},
   "outputs": [],
   "source": [
    "means = Initilize_centroids(x_inp=data, n_centroids=3)\n",
    "d = distance(x_inp=data, means=means, n_centroids=3)"
   ]
  },
  {
   "cell_type": "code",
   "execution_count": 51,
   "metadata": {
    "scrolled": true
   },
   "outputs": [],
   "source": [
    "labels = d.argmin(axis=1) # very elegant way of labeling!\n"
   ]
  },
  {
   "cell_type": "code",
   "execution_count": null,
   "metadata": {},
   "outputs": [],
   "source": []
  },
  {
   "cell_type": "code",
   "execution_count": null,
   "metadata": {},
   "outputs": [],
   "source": []
  },
  {
   "cell_type": "code",
   "execution_count": null,
   "metadata": {},
   "outputs": [],
   "source": [
    "def MoveCent(x_inp, x_expect):\n",
    "    '''\n",
    "    Performs Maximization step given input data and expectation values, then\n",
    "    and returns centroid positions.   \n",
    "    \n",
    "    -----------\n",
    "    \n",
    "    Input:   x_inp - numpy ndarray of dimension (n_samples, n_features)\n",
    "             x_expect  - numpy ndarray of dimension (n_samples, n_centroids)\n",
    "    Output:  means  - numpy ndarray of dimension (n_centroids, n_features)   \n",
    "    '''\n",
    "    \n",
    "    #Maximization Step\n",
    "    means = np.dot(x_inp.transpose(),x_expect)\n",
    "    return means.T\n",
    "\n",
    "\n",
    "def train_EM(x_inp, n_centroids, n_steps):\n",
    "    '''\n",
    "    Here we simulate EM by iterating up to n_step and return finale centroid positions.   \n",
    "    \n",
    "    -----------\n",
    "    \n",
    "    Input:   x_inp - numpy ndarray of dimension (n_samples, n_features)\n",
    "             n_centroind  - number of components( means or centroids )\n",
    "    Output:  means  - numpy ndarray of dimension (n_centroids, n_features)\n",
    "             labels - clustering labels based on finale expectation value comparison  \n",
    "    '''\n",
    "    \n",
    "    seed = 101\n",
    "    means = Initilize_centroids(x_inp, n_centroids, seed)   \n",
    "        \n",
    "    for i in range(steps):\n",
    "        x_expect = Estep(data, means, n_centroids)\n",
    "        means = Mstep(data, x_expect)\n",
    "        \n",
    "    labels = x_expect.argmax(axis=1) # very elegant way of labeling!\n",
    "    return means, labels"
   ]
  },
  {
   "cell_type": "code",
   "execution_count": null,
   "metadata": {},
   "outputs": [],
   "source": []
  },
  {
   "cell_type": "code",
   "execution_count": null,
   "metadata": {},
   "outputs": [],
   "source": []
  },
  {
   "cell_type": "code",
   "execution_count": null,
   "metadata": {},
   "outputs": [],
   "source": []
  },
  {
   "cell_type": "code",
   "execution_count": null,
   "metadata": {},
   "outputs": [],
   "source": []
  },
  {
   "cell_type": "code",
   "execution_count": null,
   "metadata": {},
   "outputs": [],
   "source": []
  },
  {
   "cell_type": "code",
   "execution_count": null,
   "metadata": {
    "collapsed": true
   },
   "outputs": [],
   "source": []
  }
 ],
 "metadata": {
  "anaconda-cloud": {},
  "kernelspec": {
   "display_name": "Python 3",
   "language": "python",
   "name": "python3"
  },
  "language_info": {
   "codemirror_mode": {
    "name": "ipython",
    "version": 3
   },
   "file_extension": ".py",
   "mimetype": "text/x-python",
   "name": "python",
   "nbconvert_exporter": "python",
   "pygments_lexer": "ipython3",
   "version": "3.7.3"
  }
 },
 "nbformat": 4,
 "nbformat_minor": 1
}
